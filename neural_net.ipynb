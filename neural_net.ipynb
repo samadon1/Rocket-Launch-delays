{
  "nbformat": 4,
  "nbformat_minor": 0,
  "metadata": {
    "colab": {
      "name": "Untitled22.ipynb",
      "provenance": []
    },
    "kernelspec": {
      "name": "python3",
      "display_name": "Python 3"
    }
  },
  "cells": [
    {
      "cell_type": "code",
      "metadata": {
        "id": "g79ibUXIT9cM"
      },
      "source": [
        "# Pandas library is used for handling tabular data\n",
        "import pandas as pd\n",
        "# NumPy is used for handling numerical series operations (addition, multiplication, and ...)\n",
        "import numpy as np\n",
        "# Sklearn library contains all the machine learning packages we need to digest and extract patterns from the data\n",
        "from sklearn import linear_model, model_selection, metrics\n",
        "from sklearn.model_selection import train_test_split\n",
        "\n",
        "# Machine learning libraries used to build a decision tree\n",
        "from sklearn.tree import DecisionTreeClassifier\n",
        "from sklearn import tree\n",
        "\n",
        "# Sklearn's preprocessing library is used for processing and cleaning the data \n",
        "from sklearn import preprocessing\n",
        "\n",
        "# for visualizing the tree\n",
        "import pydotplus\n",
        "from IPython.display import Image"
      ],
      "execution_count": 198,
      "outputs": []
    },
    {
      "cell_type": "code",
      "metadata": {
        "colab": {
          "base_uri": "https://localhost:8080/",
          "height": 233
        },
        "id": "vdY1G6dzULkH",
        "outputId": "0e05a0a0-f71e-4f35-8674-2a88e9b759e3"
      },
      "source": [
        "\n",
        "launch_data = pd.read_excel('RocketLaunchDataCompleted.xlsx')\n",
        "launch_data.head(2)"
      ],
      "execution_count": 199,
      "outputs": [
        {
          "output_type": "execute_result",
          "data": {
            "text/html": [
              "<div>\n",
              "<style scoped>\n",
              "    .dataframe tbody tr th:only-of-type {\n",
              "        vertical-align: middle;\n",
              "    }\n",
              "\n",
              "    .dataframe tbody tr th {\n",
              "        vertical-align: top;\n",
              "    }\n",
              "\n",
              "    .dataframe thead th {\n",
              "        text-align: right;\n",
              "    }\n",
              "</style>\n",
              "<table border=\"1\" class=\"dataframe\">\n",
              "  <thead>\n",
              "    <tr style=\"text-align: right;\">\n",
              "      <th></th>\n",
              "      <th>Name</th>\n",
              "      <th>Date</th>\n",
              "      <th>Time (East Coast)</th>\n",
              "      <th>Location</th>\n",
              "      <th>Crewed or Uncrewed</th>\n",
              "      <th>Launched?</th>\n",
              "      <th>High Temp</th>\n",
              "      <th>Low Temp</th>\n",
              "      <th>Ave Temp</th>\n",
              "      <th>Temp at Launch Time</th>\n",
              "      <th>Hist High Temp</th>\n",
              "      <th>Hist Low Temp</th>\n",
              "      <th>Hist Ave Temp</th>\n",
              "      <th>Percipitation at Launch Time</th>\n",
              "      <th>Hist Ave Percipitation</th>\n",
              "      <th>Wind Direction</th>\n",
              "      <th>Max Wind Speed</th>\n",
              "      <th>Visibility</th>\n",
              "      <th>Wind Speed at Launch Time</th>\n",
              "      <th>Hist Ave Max Wind Speed</th>\n",
              "      <th>Hist Ave Visibility</th>\n",
              "      <th>Sea Level Pressure</th>\n",
              "      <th>Hist Ave Sea Level Pressure</th>\n",
              "      <th>Day Length</th>\n",
              "      <th>Condition</th>\n",
              "      <th>Notes</th>\n",
              "    </tr>\n",
              "  </thead>\n",
              "  <tbody>\n",
              "    <tr>\n",
              "      <th>0</th>\n",
              "      <td>NaN</td>\n",
              "      <td>1958-12-04</td>\n",
              "      <td>NaN</td>\n",
              "      <td>Cape Canaveral</td>\n",
              "      <td>NaN</td>\n",
              "      <td>NaN</td>\n",
              "      <td>75.0</td>\n",
              "      <td>68.0</td>\n",
              "      <td>71.00</td>\n",
              "      <td>NaN</td>\n",
              "      <td>75.0</td>\n",
              "      <td>55.0</td>\n",
              "      <td>65.0</td>\n",
              "      <td>0.0</td>\n",
              "      <td>0.08</td>\n",
              "      <td>E</td>\n",
              "      <td>16.0</td>\n",
              "      <td>15.0</td>\n",
              "      <td>NaN</td>\n",
              "      <td>NaN</td>\n",
              "      <td>NaN</td>\n",
              "      <td>30.22</td>\n",
              "      <td>NaN</td>\n",
              "      <td>10:26:00</td>\n",
              "      <td>Cloudy</td>\n",
              "      <td>NaN</td>\n",
              "    </tr>\n",
              "    <tr>\n",
              "      <th>1</th>\n",
              "      <td>NaN</td>\n",
              "      <td>1958-12-05</td>\n",
              "      <td>NaN</td>\n",
              "      <td>Cape Canaveral</td>\n",
              "      <td>NaN</td>\n",
              "      <td>NaN</td>\n",
              "      <td>78.0</td>\n",
              "      <td>70.0</td>\n",
              "      <td>73.39</td>\n",
              "      <td>NaN</td>\n",
              "      <td>75.0</td>\n",
              "      <td>55.0</td>\n",
              "      <td>65.0</td>\n",
              "      <td>0.0</td>\n",
              "      <td>0.09</td>\n",
              "      <td>E</td>\n",
              "      <td>14.0</td>\n",
              "      <td>10.0</td>\n",
              "      <td>NaN</td>\n",
              "      <td>NaN</td>\n",
              "      <td>NaN</td>\n",
              "      <td>30.2</td>\n",
              "      <td>NaN</td>\n",
              "      <td>10:26:00</td>\n",
              "      <td>Cloudy</td>\n",
              "      <td>NaN</td>\n",
              "    </tr>\n",
              "  </tbody>\n",
              "</table>\n",
              "</div>"
            ],
            "text/plain": [
              "  Name       Date Time (East Coast)  ... Day Length Condition Notes\n",
              "0  NaN 1958-12-04               NaN  ...   10:26:00    Cloudy   NaN\n",
              "1  NaN 1958-12-05               NaN  ...   10:26:00    Cloudy   NaN\n",
              "\n",
              "[2 rows x 26 columns]"
            ]
          },
          "metadata": {
            "tags": []
          },
          "execution_count": 199
        }
      ]
    },
    {
      "cell_type": "code",
      "metadata": {
        "colab": {
          "base_uri": "https://localhost:8080/"
        },
        "id": "yGICMfXBUOW6",
        "outputId": "939b0c9a-c95b-4d65-ca6e-768c114d8aac"
      },
      "source": [
        "launch_data.columns"
      ],
      "execution_count": 200,
      "outputs": [
        {
          "output_type": "execute_result",
          "data": {
            "text/plain": [
              "Index(['Name', 'Date', 'Time (East Coast)', 'Location', 'Crewed or Uncrewed',\n",
              "       'Launched?', 'High Temp', 'Low Temp', 'Ave Temp', 'Temp at Launch Time',\n",
              "       'Hist High Temp', 'Hist Low Temp', 'Hist Ave Temp',\n",
              "       'Percipitation at Launch Time', 'Hist Ave Percipitation',\n",
              "       'Wind Direction', 'Max Wind Speed', 'Visibility',\n",
              "       'Wind Speed at Launch Time', 'Hist Ave Max Wind Speed',\n",
              "       'Hist Ave Visibility', 'Sea Level Pressure',\n",
              "       'Hist Ave Sea Level Pressure', 'Day Length', 'Condition', 'Notes'],\n",
              "      dtype='object')"
            ]
          },
          "metadata": {
            "tags": []
          },
          "execution_count": 200
        }
      ]
    },
    {
      "cell_type": "code",
      "metadata": {
        "colab": {
          "base_uri": "https://localhost:8080/"
        },
        "id": "FRORWF6YUS0q",
        "outputId": "3996c8e8-39a5-478d-f6da-ece969891f14"
      },
      "source": [
        "\n",
        "launch_data.info()"
      ],
      "execution_count": 201,
      "outputs": [
        {
          "output_type": "stream",
          "text": [
            "<class 'pandas.core.frame.DataFrame'>\n",
            "RangeIndex: 300 entries, 0 to 299\n",
            "Data columns (total 26 columns):\n",
            " #   Column                        Non-Null Count  Dtype         \n",
            "---  ------                        --------------  -----         \n",
            " 0   Name                          60 non-null     object        \n",
            " 1   Date                          300 non-null    datetime64[ns]\n",
            " 2   Time (East Coast)             59 non-null     object        \n",
            " 3   Location                      300 non-null    object        \n",
            " 4   Crewed or Uncrewed            60 non-null     object        \n",
            " 5   Launched?                     60 non-null     object        \n",
            " 6   High Temp                     299 non-null    float64       \n",
            " 7   Low Temp                      299 non-null    float64       \n",
            " 8   Ave Temp                      299 non-null    float64       \n",
            " 9   Temp at Launch Time           59 non-null     float64       \n",
            " 10  Hist High Temp                299 non-null    float64       \n",
            " 11  Hist Low Temp                 299 non-null    float64       \n",
            " 12  Hist Ave Temp                 299 non-null    float64       \n",
            " 13  Percipitation at Launch Time  299 non-null    float64       \n",
            " 14  Hist Ave Percipitation        299 non-null    float64       \n",
            " 15  Wind Direction                299 non-null    object        \n",
            " 16  Max Wind Speed                299 non-null    float64       \n",
            " 17  Visibility                    299 non-null    float64       \n",
            " 18  Wind Speed at Launch Time     59 non-null     float64       \n",
            " 19  Hist Ave Max Wind Speed       0 non-null      float64       \n",
            " 20  Hist Ave Visibility           0 non-null      float64       \n",
            " 21  Sea Level Pressure            299 non-null    object        \n",
            " 22  Hist Ave Sea Level Pressure   0 non-null      float64       \n",
            " 23  Day Length                    298 non-null    object        \n",
            " 24  Condition                     298 non-null    object        \n",
            " 25  Notes                         3 non-null      object        \n",
            "dtypes: datetime64[ns](1), float64(15), object(10)\n",
            "memory usage: 61.1+ KB\n"
          ],
          "name": "stdout"
        }
      ]
    },
    {
      "cell_type": "code",
      "metadata": {
        "id": "hUFKNtFEUVYK"
      },
      "source": [
        "## To handle missing values, we will fill the missing values with appropriate values \n",
        "\n",
        "launch_data['Launched?']=launch_data['Launched?'].fillna('N')\n",
        "\n",
        "launch_data['Crewed or Uncrewed']=launch_data['Crewed or Uncrewed'].fillna('Uncrewed')\n",
        "\n",
        "launch_data['Wind Direction']=launch_data['Wind Direction'].fillna('unknown')\n",
        "\n",
        "launch_data['Condition']=launch_data['Condition'].fillna('Fair')\n",
        "\n",
        "launch_data=launch_data.fillna(0)"
      ],
      "execution_count": 202,
      "outputs": []
    },
    {
      "cell_type": "code",
      "metadata": {
        "colab": {
          "base_uri": "https://localhost:8080/",
          "height": 377
        },
        "id": "sB3wMavdUYxj",
        "outputId": "1f35257e-b43f-4ce3-caf1-931df7aed9b1"
      },
      "source": [
        "launch_data.head()"
      ],
      "execution_count": 203,
      "outputs": [
        {
          "output_type": "execute_result",
          "data": {
            "text/html": [
              "<div>\n",
              "<style scoped>\n",
              "    .dataframe tbody tr th:only-of-type {\n",
              "        vertical-align: middle;\n",
              "    }\n",
              "\n",
              "    .dataframe tbody tr th {\n",
              "        vertical-align: top;\n",
              "    }\n",
              "\n",
              "    .dataframe thead th {\n",
              "        text-align: right;\n",
              "    }\n",
              "</style>\n",
              "<table border=\"1\" class=\"dataframe\">\n",
              "  <thead>\n",
              "    <tr style=\"text-align: right;\">\n",
              "      <th></th>\n",
              "      <th>Name</th>\n",
              "      <th>Date</th>\n",
              "      <th>Time (East Coast)</th>\n",
              "      <th>Location</th>\n",
              "      <th>Crewed or Uncrewed</th>\n",
              "      <th>Launched?</th>\n",
              "      <th>High Temp</th>\n",
              "      <th>Low Temp</th>\n",
              "      <th>Ave Temp</th>\n",
              "      <th>Temp at Launch Time</th>\n",
              "      <th>Hist High Temp</th>\n",
              "      <th>Hist Low Temp</th>\n",
              "      <th>Hist Ave Temp</th>\n",
              "      <th>Percipitation at Launch Time</th>\n",
              "      <th>Hist Ave Percipitation</th>\n",
              "      <th>Wind Direction</th>\n",
              "      <th>Max Wind Speed</th>\n",
              "      <th>Visibility</th>\n",
              "      <th>Wind Speed at Launch Time</th>\n",
              "      <th>Hist Ave Max Wind Speed</th>\n",
              "      <th>Hist Ave Visibility</th>\n",
              "      <th>Sea Level Pressure</th>\n",
              "      <th>Hist Ave Sea Level Pressure</th>\n",
              "      <th>Day Length</th>\n",
              "      <th>Condition</th>\n",
              "      <th>Notes</th>\n",
              "    </tr>\n",
              "  </thead>\n",
              "  <tbody>\n",
              "    <tr>\n",
              "      <th>0</th>\n",
              "      <td>0</td>\n",
              "      <td>1958-12-04</td>\n",
              "      <td>0</td>\n",
              "      <td>Cape Canaveral</td>\n",
              "      <td>Uncrewed</td>\n",
              "      <td>N</td>\n",
              "      <td>75.0</td>\n",
              "      <td>68.0</td>\n",
              "      <td>71.00</td>\n",
              "      <td>0.0</td>\n",
              "      <td>75.0</td>\n",
              "      <td>55.0</td>\n",
              "      <td>65.0</td>\n",
              "      <td>0.0</td>\n",
              "      <td>0.08</td>\n",
              "      <td>E</td>\n",
              "      <td>16.0</td>\n",
              "      <td>15.0</td>\n",
              "      <td>0.0</td>\n",
              "      <td>0.0</td>\n",
              "      <td>0.0</td>\n",
              "      <td>30.22</td>\n",
              "      <td>0.0</td>\n",
              "      <td>10:26:00</td>\n",
              "      <td>Cloudy</td>\n",
              "      <td>0</td>\n",
              "    </tr>\n",
              "    <tr>\n",
              "      <th>1</th>\n",
              "      <td>0</td>\n",
              "      <td>1958-12-05</td>\n",
              "      <td>0</td>\n",
              "      <td>Cape Canaveral</td>\n",
              "      <td>Uncrewed</td>\n",
              "      <td>N</td>\n",
              "      <td>78.0</td>\n",
              "      <td>70.0</td>\n",
              "      <td>73.39</td>\n",
              "      <td>0.0</td>\n",
              "      <td>75.0</td>\n",
              "      <td>55.0</td>\n",
              "      <td>65.0</td>\n",
              "      <td>0.0</td>\n",
              "      <td>0.09</td>\n",
              "      <td>E</td>\n",
              "      <td>14.0</td>\n",
              "      <td>10.0</td>\n",
              "      <td>0.0</td>\n",
              "      <td>0.0</td>\n",
              "      <td>0.0</td>\n",
              "      <td>30.2</td>\n",
              "      <td>0.0</td>\n",
              "      <td>10:26:00</td>\n",
              "      <td>Cloudy</td>\n",
              "      <td>0</td>\n",
              "    </tr>\n",
              "    <tr>\n",
              "      <th>2</th>\n",
              "      <td>Pioneer 3</td>\n",
              "      <td>1958-12-06</td>\n",
              "      <td>01:45:00</td>\n",
              "      <td>Cape Canaveral</td>\n",
              "      <td>Uncrewed</td>\n",
              "      <td>Y</td>\n",
              "      <td>73.0</td>\n",
              "      <td>0.0</td>\n",
              "      <td>60.21</td>\n",
              "      <td>62.0</td>\n",
              "      <td>75.0</td>\n",
              "      <td>55.0</td>\n",
              "      <td>65.0</td>\n",
              "      <td>0.0</td>\n",
              "      <td>0.09</td>\n",
              "      <td>NE</td>\n",
              "      <td>15.0</td>\n",
              "      <td>10.0</td>\n",
              "      <td>11.0</td>\n",
              "      <td>0.0</td>\n",
              "      <td>0.0</td>\n",
              "      <td>30.25</td>\n",
              "      <td>0.0</td>\n",
              "      <td>10:25:00</td>\n",
              "      <td>Cloudy</td>\n",
              "      <td>0</td>\n",
              "    </tr>\n",
              "    <tr>\n",
              "      <th>3</th>\n",
              "      <td>0</td>\n",
              "      <td>1958-12-07</td>\n",
              "      <td>0</td>\n",
              "      <td>Cape Canaveral</td>\n",
              "      <td>Uncrewed</td>\n",
              "      <td>N</td>\n",
              "      <td>76.0</td>\n",
              "      <td>57.0</td>\n",
              "      <td>66.04</td>\n",
              "      <td>0.0</td>\n",
              "      <td>75.0</td>\n",
              "      <td>55.0</td>\n",
              "      <td>65.0</td>\n",
              "      <td>0.0</td>\n",
              "      <td>0.08</td>\n",
              "      <td>N</td>\n",
              "      <td>10.0</td>\n",
              "      <td>10.0</td>\n",
              "      <td>0.0</td>\n",
              "      <td>0.0</td>\n",
              "      <td>0.0</td>\n",
              "      <td>30.28</td>\n",
              "      <td>0.0</td>\n",
              "      <td>10:25:00</td>\n",
              "      <td>Partly Cloudy</td>\n",
              "      <td>0</td>\n",
              "    </tr>\n",
              "    <tr>\n",
              "      <th>4</th>\n",
              "      <td>0</td>\n",
              "      <td>1958-12-08</td>\n",
              "      <td>0</td>\n",
              "      <td>Cape Canaveral</td>\n",
              "      <td>Uncrewed</td>\n",
              "      <td>N</td>\n",
              "      <td>79.0</td>\n",
              "      <td>60.0</td>\n",
              "      <td>70.52</td>\n",
              "      <td>0.0</td>\n",
              "      <td>75.0</td>\n",
              "      <td>55.0</td>\n",
              "      <td>65.0</td>\n",
              "      <td>0.0</td>\n",
              "      <td>0.09</td>\n",
              "      <td>E</td>\n",
              "      <td>12.0</td>\n",
              "      <td>10.0</td>\n",
              "      <td>0.0</td>\n",
              "      <td>0.0</td>\n",
              "      <td>0.0</td>\n",
              "      <td>30.23</td>\n",
              "      <td>0.0</td>\n",
              "      <td>12:24:00</td>\n",
              "      <td>Partly Cloudy</td>\n",
              "      <td>0</td>\n",
              "    </tr>\n",
              "  </tbody>\n",
              "</table>\n",
              "</div>"
            ],
            "text/plain": [
              "        Name       Date Time (East Coast)  ... Day Length      Condition Notes\n",
              "0          0 1958-12-04                 0  ...   10:26:00         Cloudy     0\n",
              "1          0 1958-12-05                 0  ...   10:26:00         Cloudy     0\n",
              "2  Pioneer 3 1958-12-06          01:45:00  ...   10:25:00         Cloudy     0\n",
              "3          0 1958-12-07                 0  ...   10:25:00  Partly Cloudy     0\n",
              "4          0 1958-12-08                 0  ...   12:24:00  Partly Cloudy     0\n",
              "\n",
              "[5 rows x 26 columns]"
            ]
          },
          "metadata": {
            "tags": []
          },
          "execution_count": 203
        }
      ]
    },
    {
      "cell_type": "code",
      "metadata": {
        "colab": {
          "base_uri": "https://localhost:8080/",
          "height": 377
        },
        "id": "d7c4jwjAUbJO",
        "outputId": "01965cc8-6b5d-4332-c6eb-85c82e641a2c"
      },
      "source": [
        "launch_data.head()"
      ],
      "execution_count": 204,
      "outputs": [
        {
          "output_type": "execute_result",
          "data": {
            "text/html": [
              "<div>\n",
              "<style scoped>\n",
              "    .dataframe tbody tr th:only-of-type {\n",
              "        vertical-align: middle;\n",
              "    }\n",
              "\n",
              "    .dataframe tbody tr th {\n",
              "        vertical-align: top;\n",
              "    }\n",
              "\n",
              "    .dataframe thead th {\n",
              "        text-align: right;\n",
              "    }\n",
              "</style>\n",
              "<table border=\"1\" class=\"dataframe\">\n",
              "  <thead>\n",
              "    <tr style=\"text-align: right;\">\n",
              "      <th></th>\n",
              "      <th>Name</th>\n",
              "      <th>Date</th>\n",
              "      <th>Time (East Coast)</th>\n",
              "      <th>Location</th>\n",
              "      <th>Crewed or Uncrewed</th>\n",
              "      <th>Launched?</th>\n",
              "      <th>High Temp</th>\n",
              "      <th>Low Temp</th>\n",
              "      <th>Ave Temp</th>\n",
              "      <th>Temp at Launch Time</th>\n",
              "      <th>Hist High Temp</th>\n",
              "      <th>Hist Low Temp</th>\n",
              "      <th>Hist Ave Temp</th>\n",
              "      <th>Percipitation at Launch Time</th>\n",
              "      <th>Hist Ave Percipitation</th>\n",
              "      <th>Wind Direction</th>\n",
              "      <th>Max Wind Speed</th>\n",
              "      <th>Visibility</th>\n",
              "      <th>Wind Speed at Launch Time</th>\n",
              "      <th>Hist Ave Max Wind Speed</th>\n",
              "      <th>Hist Ave Visibility</th>\n",
              "      <th>Sea Level Pressure</th>\n",
              "      <th>Hist Ave Sea Level Pressure</th>\n",
              "      <th>Day Length</th>\n",
              "      <th>Condition</th>\n",
              "      <th>Notes</th>\n",
              "    </tr>\n",
              "  </thead>\n",
              "  <tbody>\n",
              "    <tr>\n",
              "      <th>0</th>\n",
              "      <td>0</td>\n",
              "      <td>1958-12-04</td>\n",
              "      <td>0</td>\n",
              "      <td>Cape Canaveral</td>\n",
              "      <td>Uncrewed</td>\n",
              "      <td>N</td>\n",
              "      <td>75.0</td>\n",
              "      <td>68.0</td>\n",
              "      <td>71.00</td>\n",
              "      <td>0.0</td>\n",
              "      <td>75.0</td>\n",
              "      <td>55.0</td>\n",
              "      <td>65.0</td>\n",
              "      <td>0.0</td>\n",
              "      <td>0.08</td>\n",
              "      <td>E</td>\n",
              "      <td>16.0</td>\n",
              "      <td>15.0</td>\n",
              "      <td>0.0</td>\n",
              "      <td>0.0</td>\n",
              "      <td>0.0</td>\n",
              "      <td>30.22</td>\n",
              "      <td>0.0</td>\n",
              "      <td>10:26:00</td>\n",
              "      <td>Cloudy</td>\n",
              "      <td>0</td>\n",
              "    </tr>\n",
              "    <tr>\n",
              "      <th>1</th>\n",
              "      <td>0</td>\n",
              "      <td>1958-12-05</td>\n",
              "      <td>0</td>\n",
              "      <td>Cape Canaveral</td>\n",
              "      <td>Uncrewed</td>\n",
              "      <td>N</td>\n",
              "      <td>78.0</td>\n",
              "      <td>70.0</td>\n",
              "      <td>73.39</td>\n",
              "      <td>0.0</td>\n",
              "      <td>75.0</td>\n",
              "      <td>55.0</td>\n",
              "      <td>65.0</td>\n",
              "      <td>0.0</td>\n",
              "      <td>0.09</td>\n",
              "      <td>E</td>\n",
              "      <td>14.0</td>\n",
              "      <td>10.0</td>\n",
              "      <td>0.0</td>\n",
              "      <td>0.0</td>\n",
              "      <td>0.0</td>\n",
              "      <td>30.2</td>\n",
              "      <td>0.0</td>\n",
              "      <td>10:26:00</td>\n",
              "      <td>Cloudy</td>\n",
              "      <td>0</td>\n",
              "    </tr>\n",
              "    <tr>\n",
              "      <th>2</th>\n",
              "      <td>Pioneer 3</td>\n",
              "      <td>1958-12-06</td>\n",
              "      <td>01:45:00</td>\n",
              "      <td>Cape Canaveral</td>\n",
              "      <td>Uncrewed</td>\n",
              "      <td>Y</td>\n",
              "      <td>73.0</td>\n",
              "      <td>0.0</td>\n",
              "      <td>60.21</td>\n",
              "      <td>62.0</td>\n",
              "      <td>75.0</td>\n",
              "      <td>55.0</td>\n",
              "      <td>65.0</td>\n",
              "      <td>0.0</td>\n",
              "      <td>0.09</td>\n",
              "      <td>NE</td>\n",
              "      <td>15.0</td>\n",
              "      <td>10.0</td>\n",
              "      <td>11.0</td>\n",
              "      <td>0.0</td>\n",
              "      <td>0.0</td>\n",
              "      <td>30.25</td>\n",
              "      <td>0.0</td>\n",
              "      <td>10:25:00</td>\n",
              "      <td>Cloudy</td>\n",
              "      <td>0</td>\n",
              "    </tr>\n",
              "    <tr>\n",
              "      <th>3</th>\n",
              "      <td>0</td>\n",
              "      <td>1958-12-07</td>\n",
              "      <td>0</td>\n",
              "      <td>Cape Canaveral</td>\n",
              "      <td>Uncrewed</td>\n",
              "      <td>N</td>\n",
              "      <td>76.0</td>\n",
              "      <td>57.0</td>\n",
              "      <td>66.04</td>\n",
              "      <td>0.0</td>\n",
              "      <td>75.0</td>\n",
              "      <td>55.0</td>\n",
              "      <td>65.0</td>\n",
              "      <td>0.0</td>\n",
              "      <td>0.08</td>\n",
              "      <td>N</td>\n",
              "      <td>10.0</td>\n",
              "      <td>10.0</td>\n",
              "      <td>0.0</td>\n",
              "      <td>0.0</td>\n",
              "      <td>0.0</td>\n",
              "      <td>30.28</td>\n",
              "      <td>0.0</td>\n",
              "      <td>10:25:00</td>\n",
              "      <td>Partly Cloudy</td>\n",
              "      <td>0</td>\n",
              "    </tr>\n",
              "    <tr>\n",
              "      <th>4</th>\n",
              "      <td>0</td>\n",
              "      <td>1958-12-08</td>\n",
              "      <td>0</td>\n",
              "      <td>Cape Canaveral</td>\n",
              "      <td>Uncrewed</td>\n",
              "      <td>N</td>\n",
              "      <td>79.0</td>\n",
              "      <td>60.0</td>\n",
              "      <td>70.52</td>\n",
              "      <td>0.0</td>\n",
              "      <td>75.0</td>\n",
              "      <td>55.0</td>\n",
              "      <td>65.0</td>\n",
              "      <td>0.0</td>\n",
              "      <td>0.09</td>\n",
              "      <td>E</td>\n",
              "      <td>12.0</td>\n",
              "      <td>10.0</td>\n",
              "      <td>0.0</td>\n",
              "      <td>0.0</td>\n",
              "      <td>0.0</td>\n",
              "      <td>30.23</td>\n",
              "      <td>0.0</td>\n",
              "      <td>12:24:00</td>\n",
              "      <td>Partly Cloudy</td>\n",
              "      <td>0</td>\n",
              "    </tr>\n",
              "  </tbody>\n",
              "</table>\n",
              "</div>"
            ],
            "text/plain": [
              "        Name       Date Time (East Coast)  ... Day Length      Condition Notes\n",
              "0          0 1958-12-04                 0  ...   10:26:00         Cloudy     0\n",
              "1          0 1958-12-05                 0  ...   10:26:00         Cloudy     0\n",
              "2  Pioneer 3 1958-12-06          01:45:00  ...   10:25:00         Cloudy     0\n",
              "3          0 1958-12-07                 0  ...   10:25:00  Partly Cloudy     0\n",
              "4          0 1958-12-08                 0  ...   12:24:00  Partly Cloudy     0\n",
              "\n",
              "[5 rows x 26 columns]"
            ]
          },
          "metadata": {
            "tags": []
          },
          "execution_count": 204
        }
      ]
    },
    {
      "cell_type": "code",
      "metadata": {
        "id": "6GFP_zaxUeAE"
      },
      "source": [
        "\n",
        "import seaborn as sns\n",
        "import matplotlib.pyplot as plt\n",
        "%matplotlib inline"
      ],
      "execution_count": 205,
      "outputs": []
    },
    {
      "cell_type": "code",
      "metadata": {
        "colab": {
          "base_uri": "https://localhost:8080/",
          "height": 459
        },
        "id": "xw6G-UhFUgNs",
        "outputId": "6f5e55e6-ac61-48c6-fad9-8f921641216a"
      },
      "source": [
        "plt.figure(figsize=(12, 6))\n",
        "sns.distplot(launch_data[\"High Temp\"])"
      ],
      "execution_count": 206,
      "outputs": [
        {
          "output_type": "stream",
          "text": [
            "/usr/local/lib/python3.6/dist-packages/seaborn/distributions.py:2551: FutureWarning: `distplot` is a deprecated function and will be removed in a future version. Please adapt your code to use either `displot` (a figure-level function with similar flexibility) or `histplot` (an axes-level function for histograms).\n",
            "  warnings.warn(msg, FutureWarning)\n"
          ],
          "name": "stderr"
        },
        {
          "output_type": "execute_result",
          "data": {
            "text/plain": [
              "<matplotlib.axes._subplots.AxesSubplot at 0x7f29cd257a58>"
            ]
          },
          "metadata": {
            "tags": []
          },
          "execution_count": 206
        },
        {
          "output_type": "display_data",
          "data": {
            "image/png": "[encoded data removed]",
            "text/plain": [
              "<Figure size 864x432 with 1 Axes>"
            ]
          },
          "metadata": {
            "tags": [],
            "needs_background": "light"
          }
        }
      ]
    },
    {
      "cell_type": "code",
      "metadata": {
        "colab": {
          "base_uri": "https://localhost:8080/",
          "height": 459
        },
        "id": "JHyM8EYrUigz",
        "outputId": "bdb8f1c7-b7f8-4ad8-cbdf-d3c8b8efab7e"
      },
      "source": [
        "\n",
        "plt.figure(figsize=(12, 6))\n",
        "sns.distplot(launch_data[\"Low Temp\"])"
      ],
      "execution_count": 207,
      "outputs": [
        {
          "output_type": "stream",
          "text": [
            "/usr/local/lib/python3.6/dist-packages/seaborn/distributions.py:2551: FutureWarning: `distplot` is a deprecated function and will be removed in a future version. Please adapt your code to use either `displot` (a figure-level function with similar flexibility) or `histplot` (an axes-level function for histograms).\n",
            "  warnings.warn(msg, FutureWarning)\n"
          ],
          "name": "stderr"
        },
        {
          "output_type": "execute_result",
          "data": {
            "text/plain": [
              "<matplotlib.axes._subplots.AxesSubplot at 0x7f2a07225390>"
            ]
          },
          "metadata": {
            "tags": []
          },
          "execution_count": 207
        },
        {
          "output_type": "display_data",
          "data": {
            "image/png": "[encoded data removed]",
            "text/plain": [
              "<Figure size 864x432 with 1 Axes>"
            ]
          },
          "metadata": {
            "tags": [],
            "needs_background": "light"
          }
        }
      ]
    },
    {
      "cell_type": "code",
      "metadata": {
        "colab": {
          "base_uri": "https://localhost:8080/",
          "height": 459
        },
        "id": "raUHF6YSUmpj",
        "outputId": "b55d9fbb-41f2-49ea-e62a-5beff8c25aa9"
      },
      "source": [
        "plt.figure(figsize=(12, 6))\n",
        "sns.distplot(launch_data[\"Ave Temp\"])"
      ],
      "execution_count": 208,
      "outputs": [
        {
          "output_type": "stream",
          "text": [
            "/usr/local/lib/python3.6/dist-packages/seaborn/distributions.py:2551: FutureWarning: `distplot` is a deprecated function and will be removed in a future version. Please adapt your code to use either `displot` (a figure-level function with similar flexibility) or `histplot` (an axes-level function for histograms).\n",
            "  warnings.warn(msg, FutureWarning)\n"
          ],
          "name": "stderr"
        },
        {
          "output_type": "execute_result",
          "data": {
            "text/plain": [
              "<matplotlib.axes._subplots.AxesSubplot at 0x7f29cc139a58>"
            ]
          },
          "metadata": {
            "tags": []
          },
          "execution_count": 208
        },
        {
          "output_type": "display_data",
          "data": {
            "image/png": "[encoded data removed]",
            "text/plain": [
              "<Figure size 864x432 with 1 Axes>"
            ]
          },
          "metadata": {
            "tags": [],
            "needs_background": "light"
          }
        }
      ]
    },
    {
      "cell_type": "code",
      "metadata": {
        "colab": {
          "base_uri": "https://localhost:8080/",
          "height": 459
        },
        "id": "4MS2ZiGOUpJR",
        "outputId": "34014d0b-8fda-48de-9817-f67f905dab75"
      },
      "source": [
        "plt.figure(figsize=(12, 6))\n",
        "sns.distplot(launch_data[\"Max Wind Speed\"])"
      ],
      "execution_count": 209,
      "outputs": [
        {
          "output_type": "stream",
          "text": [
            "/usr/local/lib/python3.6/dist-packages/seaborn/distributions.py:2551: FutureWarning: `distplot` is a deprecated function and will be removed in a future version. Please adapt your code to use either `displot` (a figure-level function with similar flexibility) or `histplot` (an axes-level function for histograms).\n",
            "  warnings.warn(msg, FutureWarning)\n"
          ],
          "name": "stderr"
        },
        {
          "output_type": "execute_result",
          "data": {
            "text/plain": [
              "<matplotlib.axes._subplots.AxesSubplot at 0x7f29cc00e0b8>"
            ]
          },
          "metadata": {
            "tags": []
          },
          "execution_count": 209
        },
        {
          "output_type": "display_data",
          "data": {
            "image/png": "[encoded data removed]",
            "text/plain": [
              "<Figure size 864x432 with 1 Axes>"
            ]
          },
          "metadata": {
            "tags": [],
            "needs_background": "light"
          }
        }
      ]
    },
    {
      "cell_type": "code",
      "metadata": {
        "id": "tc0lEMzOUrOX"
      },
      "source": [
        "## As part of the data cleaning process, we have to convert text data to numerical because computers understand only numbers\n",
        "label_encoder = preprocessing.LabelEncoder()\n",
        "\n",
        "# Three columns have categorical text info, and we convert them to numbers\n",
        "launch_data['Crewed or Uncrewed'] = label_encoder.fit_transform(launch_data['Crewed or Uncrewed'])\n",
        "launch_data['Wind Direction'] = label_encoder.fit_transform(launch_data['Wind Direction'])\n",
        "launch_data['Condition'] = label_encoder.fit_transform(launch_data['Condition'])"
      ],
      "execution_count": 210,
      "outputs": []
    },
    {
      "cell_type": "code",
      "metadata": {
        "colab": {
          "base_uri": "https://localhost:8080/"
        },
        "id": "ilqU-oInUtzn",
        "outputId": "b4e7e82e-25c2-43bd-9647-655d2a39ddf2"
      },
      "source": [
        "launch_data.info()"
      ],
      "execution_count": 211,
      "outputs": [
        {
          "output_type": "stream",
          "text": [
            "<class 'pandas.core.frame.DataFrame'>\n",
            "RangeIndex: 300 entries, 0 to 299\n",
            "Data columns (total 26 columns):\n",
            " #   Column                        Non-Null Count  Dtype         \n",
            "---  ------                        --------------  -----         \n",
            " 0   Name                          300 non-null    object        \n",
            " 1   Date                          300 non-null    datetime64[ns]\n",
            " 2   Time (East Coast)             300 non-null    object        \n",
            " 3   Location                      300 non-null    object        \n",
            " 4   Crewed or Uncrewed            300 non-null    int64         \n",
            " 5   Launched?                     300 non-null    object        \n",
            " 6   High Temp                     300 non-null    float64       \n",
            " 7   Low Temp                      300 non-null    float64       \n",
            " 8   Ave Temp                      300 non-null    float64       \n",
            " 9   Temp at Launch Time           300 non-null    float64       \n",
            " 10  Hist High Temp                300 non-null    float64       \n",
            " 11  Hist Low Temp                 300 non-null    float64       \n",
            " 12  Hist Ave Temp                 300 non-null    float64       \n",
            " 13  Percipitation at Launch Time  300 non-null    float64       \n",
            " 14  Hist Ave Percipitation        300 non-null    float64       \n",
            " 15  Wind Direction                300 non-null    int64         \n",
            " 16  Max Wind Speed                300 non-null    float64       \n",
            " 17  Visibility                    300 non-null    float64       \n",
            " 18  Wind Speed at Launch Time     300 non-null    float64       \n",
            " 19  Hist Ave Max Wind Speed       300 non-null    float64       \n",
            " 20  Hist Ave Visibility           300 non-null    float64       \n",
            " 21  Sea Level Pressure            300 non-null    object        \n",
            " 22  Hist Ave Sea Level Pressure   300 non-null    float64       \n",
            " 23  Day Length                    300 non-null    object        \n",
            " 24  Condition                     300 non-null    int64         \n",
            " 25  Notes                         300 non-null    object        \n",
            "dtypes: datetime64[ns](1), float64(15), int64(3), object(7)\n",
            "memory usage: 61.1+ KB\n"
          ],
          "name": "stdout"
        }
      ]
    },
    {
      "cell_type": "code",
      "metadata": {
        "id": "Uv4MyQ08UvnQ"
      },
      "source": [
        "# First, we save the output we are interested in. In this case, \"launch\" yes and no's go into the output variable.\n",
        "y = launch_data['Launched?']\n",
        "\n",
        "# Removing the columns we are not interested in\n",
        "launch_data=launch_data.drop(['Name','Date','Time (East Coast)','Location','Launched?','Hist Ave Sea Level Pressure','Sea Level Pressure','Day Length','Notes','Hist Ave Visibility', 'Hist Ave Max Wind Speed'],axis=1)\n",
        "\n",
        "# Saving the rest of the data as input data\n",
        "X = launch_data"
      ],
      "execution_count": 212,
      "outputs": []
    },
    {
      "cell_type": "code",
      "metadata": {
        "colab": {
          "base_uri": "https://localhost:8080/",
          "height": 507
        },
        "id": "N0j6K8bxUznR",
        "outputId": "b37fb833-e089-47d8-85a1-f9747049f577"
      },
      "source": [
        "X"
      ],
      "execution_count": 213,
      "outputs": [
        {
          "output_type": "execute_result",
          "data": {
            "text/html": [
              "<div>\n",
              "<style scoped>\n",
              "    .dataframe tbody tr th:only-of-type {\n",
              "        vertical-align: middle;\n",
              "    }\n",
              "\n",
              "    .dataframe tbody tr th {\n",
              "        vertical-align: top;\n",
              "    }\n",
              "\n",
              "    .dataframe thead th {\n",
              "        text-align: right;\n",
              "    }\n",
              "</style>\n",
              "<table border=\"1\" class=\"dataframe\">\n",
              "  <thead>\n",
              "    <tr style=\"text-align: right;\">\n",
              "      <th></th>\n",
              "      <th>Crewed or Uncrewed</th>\n",
              "      <th>High Temp</th>\n",
              "      <th>Low Temp</th>\n",
              "      <th>Ave Temp</th>\n",
              "      <th>Temp at Launch Time</th>\n",
              "      <th>Hist High Temp</th>\n",
              "      <th>Hist Low Temp</th>\n",
              "      <th>Hist Ave Temp</th>\n",
              "      <th>Percipitation at Launch Time</th>\n",
              "      <th>Hist Ave Percipitation</th>\n",
              "      <th>Wind Direction</th>\n",
              "      <th>Max Wind Speed</th>\n",
              "      <th>Visibility</th>\n",
              "      <th>Wind Speed at Launch Time</th>\n",
              "      <th>Condition</th>\n",
              "    </tr>\n",
              "  </thead>\n",
              "  <tbody>\n",
              "    <tr>\n",
              "      <th>0</th>\n",
              "      <td>1</td>\n",
              "      <td>75.0</td>\n",
              "      <td>68.0</td>\n",
              "      <td>71.00</td>\n",
              "      <td>0.0</td>\n",
              "      <td>75.0</td>\n",
              "      <td>55.0</td>\n",
              "      <td>65.0</td>\n",
              "      <td>0.00</td>\n",
              "      <td>0.08</td>\n",
              "      <td>0</td>\n",
              "      <td>16.0</td>\n",
              "      <td>15.0</td>\n",
              "      <td>0.0</td>\n",
              "      <td>0</td>\n",
              "    </tr>\n",
              "    <tr>\n",
              "      <th>1</th>\n",
              "      <td>1</td>\n",
              "      <td>78.0</td>\n",
              "      <td>70.0</td>\n",
              "      <td>73.39</td>\n",
              "      <td>0.0</td>\n",
              "      <td>75.0</td>\n",
              "      <td>55.0</td>\n",
              "      <td>65.0</td>\n",
              "      <td>0.00</td>\n",
              "      <td>0.09</td>\n",
              "      <td>0</td>\n",
              "      <td>14.0</td>\n",
              "      <td>10.0</td>\n",
              "      <td>0.0</td>\n",
              "      <td>0</td>\n",
              "    </tr>\n",
              "    <tr>\n",
              "      <th>2</th>\n",
              "      <td>1</td>\n",
              "      <td>73.0</td>\n",
              "      <td>0.0</td>\n",
              "      <td>60.21</td>\n",
              "      <td>62.0</td>\n",
              "      <td>75.0</td>\n",
              "      <td>55.0</td>\n",
              "      <td>65.0</td>\n",
              "      <td>0.00</td>\n",
              "      <td>0.09</td>\n",
              "      <td>2</td>\n",
              "      <td>15.0</td>\n",
              "      <td>10.0</td>\n",
              "      <td>11.0</td>\n",
              "      <td>0</td>\n",
              "    </tr>\n",
              "    <tr>\n",
              "      <th>3</th>\n",
              "      <td>1</td>\n",
              "      <td>76.0</td>\n",
              "      <td>57.0</td>\n",
              "      <td>66.04</td>\n",
              "      <td>0.0</td>\n",
              "      <td>75.0</td>\n",
              "      <td>55.0</td>\n",
              "      <td>65.0</td>\n",
              "      <td>0.00</td>\n",
              "      <td>0.08</td>\n",
              "      <td>1</td>\n",
              "      <td>10.0</td>\n",
              "      <td>10.0</td>\n",
              "      <td>0.0</td>\n",
              "      <td>6</td>\n",
              "    </tr>\n",
              "    <tr>\n",
              "      <th>4</th>\n",
              "      <td>1</td>\n",
              "      <td>79.0</td>\n",
              "      <td>60.0</td>\n",
              "      <td>70.52</td>\n",
              "      <td>0.0</td>\n",
              "      <td>75.0</td>\n",
              "      <td>55.0</td>\n",
              "      <td>65.0</td>\n",
              "      <td>0.00</td>\n",
              "      <td>0.09</td>\n",
              "      <td>0</td>\n",
              "      <td>12.0</td>\n",
              "      <td>10.0</td>\n",
              "      <td>0.0</td>\n",
              "      <td>6</td>\n",
              "    </tr>\n",
              "    <tr>\n",
              "      <th>...</th>\n",
              "      <td>...</td>\n",
              "      <td>...</td>\n",
              "      <td>...</td>\n",
              "      <td>...</td>\n",
              "      <td>...</td>\n",
              "      <td>...</td>\n",
              "      <td>...</td>\n",
              "      <td>...</td>\n",
              "      <td>...</td>\n",
              "      <td>...</td>\n",
              "      <td>...</td>\n",
              "      <td>...</td>\n",
              "      <td>...</td>\n",
              "      <td>...</td>\n",
              "      <td>...</td>\n",
              "    </tr>\n",
              "    <tr>\n",
              "      <th>295</th>\n",
              "      <td>1</td>\n",
              "      <td>87.0</td>\n",
              "      <td>71.0</td>\n",
              "      <td>79.36</td>\n",
              "      <td>0.0</td>\n",
              "      <td>87.0</td>\n",
              "      <td>70.0</td>\n",
              "      <td>79.0</td>\n",
              "      <td>0.00</td>\n",
              "      <td>0.15</td>\n",
              "      <td>4</td>\n",
              "      <td>20.0</td>\n",
              "      <td>10.0</td>\n",
              "      <td>0.0</td>\n",
              "      <td>9</td>\n",
              "    </tr>\n",
              "    <tr>\n",
              "      <th>296</th>\n",
              "      <td>1</td>\n",
              "      <td>86.0</td>\n",
              "      <td>72.0</td>\n",
              "      <td>79.50</td>\n",
              "      <td>0.0</td>\n",
              "      <td>88.0</td>\n",
              "      <td>70.0</td>\n",
              "      <td>79.0</td>\n",
              "      <td>0.01</td>\n",
              "      <td>0.16</td>\n",
              "      <td>5</td>\n",
              "      <td>18.0</td>\n",
              "      <td>10.0</td>\n",
              "      <td>0.0</td>\n",
              "      <td>1</td>\n",
              "    </tr>\n",
              "    <tr>\n",
              "      <th>297</th>\n",
              "      <td>0</td>\n",
              "      <td>87.0</td>\n",
              "      <td>75.0</td>\n",
              "      <td>79.69</td>\n",
              "      <td>80.0</td>\n",
              "      <td>88.0</td>\n",
              "      <td>70.0</td>\n",
              "      <td>79.0</td>\n",
              "      <td>0.00</td>\n",
              "      <td>0.16</td>\n",
              "      <td>5</td>\n",
              "      <td>16.0</td>\n",
              "      <td>10.0</td>\n",
              "      <td>7.0</td>\n",
              "      <td>1</td>\n",
              "    </tr>\n",
              "    <tr>\n",
              "      <th>298</th>\n",
              "      <td>1</td>\n",
              "      <td>87.0</td>\n",
              "      <td>72.0</td>\n",
              "      <td>79.70</td>\n",
              "      <td>0.0</td>\n",
              "      <td>88.0</td>\n",
              "      <td>70.0</td>\n",
              "      <td>79.0</td>\n",
              "      <td>0.46</td>\n",
              "      <td>0.16</td>\n",
              "      <td>0</td>\n",
              "      <td>13.0</td>\n",
              "      <td>10.0</td>\n",
              "      <td>0.0</td>\n",
              "      <td>0</td>\n",
              "    </tr>\n",
              "    <tr>\n",
              "      <th>299</th>\n",
              "      <td>1</td>\n",
              "      <td>85.0</td>\n",
              "      <td>76.0</td>\n",
              "      <td>80.31</td>\n",
              "      <td>0.0</td>\n",
              "      <td>88.0</td>\n",
              "      <td>70.0</td>\n",
              "      <td>79.0</td>\n",
              "      <td>0.00</td>\n",
              "      <td>0.19</td>\n",
              "      <td>0</td>\n",
              "      <td>16.0</td>\n",
              "      <td>10.0</td>\n",
              "      <td>0.0</td>\n",
              "      <td>0</td>\n",
              "    </tr>\n",
              "  </tbody>\n",
              "</table>\n",
              "<p>300 rows × 15 columns</p>\n",
              "</div>"
            ],
            "text/plain": [
              "     Crewed or Uncrewed  High Temp  ...  Wind Speed at Launch Time  Condition\n",
              "0                     1       75.0  ...                        0.0          0\n",
              "1                     1       78.0  ...                        0.0          0\n",
              "2                     1       73.0  ...                       11.0          0\n",
              "3                     1       76.0  ...                        0.0          6\n",
              "4                     1       79.0  ...                        0.0          6\n",
              "..                  ...        ...  ...                        ...        ...\n",
              "295                   1       87.0  ...                        0.0          9\n",
              "296                   1       86.0  ...                        0.0          1\n",
              "297                   0       87.0  ...                        7.0          1\n",
              "298                   1       87.0  ...                        0.0          0\n",
              "299                   1       85.0  ...                        0.0          0\n",
              "\n",
              "[300 rows x 15 columns]"
            ]
          },
          "metadata": {
            "tags": []
          },
          "execution_count": 213
        }
      ]
    },
    {
      "cell_type": "code",
      "metadata": {
        "colab": {
          "base_uri": "https://localhost:8080/"
        },
        "id": "4B06oybzU1vn",
        "outputId": "43888fb8-3dec-4717-9d66-fc65f8b0dfba"
      },
      "source": [
        "# List of variables that our machine learning algorithm is going to look at:\n",
        "X.columns"
      ],
      "execution_count": 214,
      "outputs": [
        {
          "output_type": "execute_result",
          "data": {
            "text/plain": [
              "Index(['Crewed or Uncrewed', 'High Temp', 'Low Temp', 'Ave Temp',\n",
              "       'Temp at Launch Time', 'Hist High Temp', 'Hist Low Temp',\n",
              "       'Hist Ave Temp', 'Percipitation at Launch Time',\n",
              "       'Hist Ave Percipitation', 'Wind Direction', 'Max Wind Speed',\n",
              "       'Visibility', 'Wind Speed at Launch Time', 'Condition'],\n",
              "      dtype='object')"
            ]
          },
          "metadata": {
            "tags": []
          },
          "execution_count": 214
        }
      ]
    },
    {
      "cell_type": "code",
      "metadata": {
        "colab": {
          "base_uri": "https://localhost:8080/"
        },
        "id": "1BMQL8INU4Kb",
        "outputId": "49af5ddb-2c13-493f-8b7f-bca66fb838f5"
      },
      "source": [
        "y"
      ],
      "execution_count": 215,
      "outputs": [
        {
          "output_type": "execute_result",
          "data": {
            "text/plain": [
              "0      N\n",
              "1      N\n",
              "2      Y\n",
              "3      N\n",
              "4      N\n",
              "      ..\n",
              "295    N\n",
              "296    N\n",
              "297    Y\n",
              "298    N\n",
              "299    N\n",
              "Name: Launched?, Length: 300, dtype: object"
            ]
          },
          "metadata": {
            "tags": []
          },
          "execution_count": 215
        }
      ]
    },
    {
      "cell_type": "code",
      "metadata": {
        "id": "lrS-jbJKnihn",
        "outputId": "d269fbd8-fb56-4924-8766-3c15fc735ee4",
        "colab": {
          "base_uri": "https://localhost:8080/"
        }
      },
      "source": [
        "y[0] =='Y'"
      ],
      "execution_count": 216,
      "outputs": [
        {
          "output_type": "execute_result",
          "data": {
            "text/plain": [
              "False"
            ]
          },
          "metadata": {
            "tags": []
          },
          "execution_count": 216
        }
      ]
    },
    {
      "cell_type": "code",
      "metadata": {
        "id": "c3IVI5r8B0XC",
        "outputId": "2a1569c0-c387-462b-fec7-90fd83dc5c34",
        "colab": {
          "base_uri": "https://localhost:8080/"
        }
      },
      "source": [
        "y0 = []\n",
        "for i in y:\n",
        "  y0.append(i)\n",
        "  print(i)"
      ],
      "execution_count": 220,
      "outputs": [
        {
          "output_type": "stream",
          "text": [
            "0\n",
            "0\n",
            "1\n",
            "0\n",
            "0\n",
            "0\n",
            "0\n",
            "1\n",
            "0\n",
            "0\n",
            "0\n",
            "0\n",
            "1\n",
            "0\n",
            "0\n",
            "0\n",
            "0\n",
            "1\n",
            "0\n",
            "0\n",
            "0\n",
            "0\n",
            "1\n",
            "0\n",
            "0\n",
            "0\n",
            "0\n",
            "1\n",
            "0\n",
            "0\n",
            "0\n",
            "0\n",
            "1\n",
            "0\n",
            "0\n",
            "0\n",
            "0\n",
            "1\n",
            "0\n",
            "0\n",
            "0\n",
            "0\n",
            "1\n",
            "0\n",
            "0\n",
            "0\n",
            "0\n",
            "1\n",
            "0\n",
            "0\n",
            "0\n",
            "0\n",
            "1\n",
            "0\n",
            "0\n",
            "0\n",
            "0\n",
            "1\n",
            "0\n",
            "0\n",
            "0\n",
            "0\n",
            "1\n",
            "0\n",
            "0\n",
            "0\n",
            "0\n",
            "1\n",
            "0\n",
            "0\n",
            "0\n",
            "0\n",
            "1\n",
            "0\n",
            "0\n",
            "0\n",
            "0\n",
            "1\n",
            "0\n",
            "0\n",
            "0\n",
            "0\n",
            "1\n",
            "0\n",
            "0\n",
            "0\n",
            "0\n",
            "1\n",
            "0\n",
            "0\n",
            "0\n",
            "0\n",
            "1\n",
            "0\n",
            "0\n",
            "0\n",
            "0\n",
            "1\n",
            "0\n",
            "0\n",
            "0\n",
            "0\n",
            "1\n",
            "0\n",
            "0\n",
            "0\n",
            "0\n",
            "1\n",
            "0\n",
            "0\n",
            "0\n",
            "0\n",
            "1\n",
            "0\n",
            "0\n",
            "0\n",
            "0\n",
            "1\n",
            "0\n",
            "0\n",
            "0\n",
            "0\n",
            "1\n",
            "0\n",
            "0\n",
            "0\n",
            "0\n",
            "1\n",
            "0\n",
            "0\n",
            "0\n",
            "0\n",
            "1\n",
            "0\n",
            "0\n",
            "0\n",
            "0\n",
            "1\n",
            "0\n",
            "0\n",
            "0\n",
            "0\n",
            "1\n",
            "0\n",
            "0\n",
            "0\n",
            "0\n",
            "1\n",
            "0\n",
            "0\n",
            "0\n",
            "0\n",
            "1\n",
            "0\n",
            "0\n",
            "0\n",
            "0\n",
            "1\n",
            "0\n",
            "0\n",
            "0\n",
            "0\n",
            "1\n",
            "0\n",
            "0\n",
            "0\n",
            "0\n",
            "1\n",
            "0\n",
            "0\n",
            "0\n",
            "0\n",
            "1\n",
            "0\n",
            "0\n",
            "0\n",
            "0\n",
            "1\n",
            "0\n",
            "0\n",
            "0\n",
            "0\n",
            "1\n",
            "0\n",
            "0\n",
            "0\n",
            "0\n",
            "1\n",
            "0\n",
            "0\n",
            "0\n",
            "0\n",
            "1\n",
            "0\n",
            "0\n",
            "0\n",
            "0\n",
            "1\n",
            "0\n",
            "0\n",
            "0\n",
            "0\n",
            "1\n",
            "0\n",
            "0\n",
            "0\n",
            "0\n",
            "1\n",
            "0\n",
            "0\n",
            "0\n",
            "0\n",
            "1\n",
            "0\n",
            "0\n",
            "0\n",
            "0\n",
            "1\n",
            "0\n",
            "0\n",
            "0\n",
            "0\n",
            "1\n",
            "0\n",
            "0\n",
            "0\n",
            "0\n",
            "1\n",
            "0\n",
            "0\n",
            "0\n",
            "0\n",
            "1\n",
            "0\n",
            "0\n",
            "0\n",
            "0\n",
            "1\n",
            "0\n",
            "0\n",
            "0\n",
            "0\n",
            "1\n",
            "0\n",
            "0\n",
            "0\n",
            "0\n",
            "1\n",
            "0\n",
            "0\n",
            "0\n",
            "0\n",
            "1\n",
            "0\n",
            "0\n",
            "0\n",
            "0\n",
            "1\n",
            "0\n",
            "0\n",
            "0\n",
            "0\n",
            "1\n",
            "0\n",
            "0\n",
            "0\n",
            "0\n",
            "1\n",
            "0\n",
            "0\n",
            "0\n",
            "0\n",
            "1\n",
            "0\n",
            "0\n",
            "0\n",
            "0\n",
            "1\n",
            "0\n",
            "0\n",
            "0\n",
            "0\n",
            "1\n",
            "0\n",
            "0\n",
            "0\n",
            "0\n",
            "1\n",
            "0\n",
            "0\n",
            "0\n",
            "0\n",
            "0\n",
            "0\n",
            "0\n",
            "0\n",
            "0\n",
            "1\n",
            "0\n",
            "0\n"
          ],
          "name": "stdout"
        }
      ]
    },
    {
      "cell_type": "code",
      "metadata": {
        "id": "-1KOpXXgCJC8",
        "outputId": "8e138fb3-0c7e-4f9f-954c-0913a147ed91",
        "colab": {
          "base_uri": "https://localhost:8080/"
        }
      },
      "source": [
        "y0\n",
        "s = pd.Series(y0)\n",
        "s"
      ],
      "execution_count": 222,
      "outputs": [
        {
          "output_type": "execute_result",
          "data": {
            "text/plain": [
              "0      0\n",
              "1      0\n",
              "2      1\n",
              "3      0\n",
              "4      0\n",
              "      ..\n",
              "295    0\n",
              "296    0\n",
              "297    1\n",
              "298    0\n",
              "299    0\n",
              "Length: 300, dtype: int64"
            ]
          },
          "metadata": {
            "tags": []
          },
          "execution_count": 222
        }
      ]
    },
    {
      "cell_type": "code",
      "metadata": {
        "id": "S-yPOyAAnuBD"
      },
      "source": [
        "# y1 = []\n",
        "# #i = 0\n",
        "# for i in range(0,300):\n",
        "#   if y[i] == 'Y':\n",
        "#     y[i] = 1\n",
        "#     print('1')\n",
        "#   if y[i] == 'N':\n",
        "#     y[i] = 0\n",
        "#     print('0')\n",
        "#   y1.append(y[i])\n",
        "#   print(y1) "
      ],
      "execution_count": null,
      "outputs": []
    },
    {
      "cell_type": "code",
      "metadata": {
        "id": "cmPhGVJFt-8k"
      },
      "source": [
        "s = pd.Series(y1)"
      ],
      "execution_count": 160,
      "outputs": []
    },
    {
      "cell_type": "code",
      "metadata": {
        "id": "edFqA3KzuEnV",
        "outputId": "27357391-9f7c-4a4b-f4fd-76d57cb735ec",
        "colab": {
          "base_uri": "https://localhost:8080/"
        }
      },
      "source": [
        "s"
      ],
      "execution_count": 161,
      "outputs": [
        {
          "output_type": "execute_result",
          "data": {
            "text/plain": [
              "0      1.0\n",
              "1      1.0\n",
              "2      1.0\n",
              "3      1.0\n",
              "4      1.0\n",
              "      ... \n",
              "295    1.0\n",
              "296    1.0\n",
              "297    1.0\n",
              "298    1.0\n",
              "299    1.0\n",
              "Length: 300, dtype: float64"
            ]
          },
          "metadata": {
            "tags": []
          },
          "execution_count": 161
        }
      ]
    },
    {
      "cell_type": "code",
      "metadata": {
        "id": "rwoBvq_-Rnhd",
        "outputId": "8ba600ab-7a71-4b7b-8a2a-9d53f8b04c61",
        "colab": {
          "base_uri": "https://localhost:8080/"
        }
      },
      "source": [
        "y = s\n",
        "y"
      ],
      "execution_count": 223,
      "outputs": [
        {
          "output_type": "execute_result",
          "data": {
            "text/plain": [
              "0      0\n",
              "1      0\n",
              "2      1\n",
              "3      0\n",
              "4      0\n",
              "      ..\n",
              "295    0\n",
              "296    0\n",
              "297    1\n",
              "298    0\n",
              "299    0\n",
              "Length: 300, dtype: int64"
            ]
          },
          "metadata": {
            "tags": []
          },
          "execution_count": 223
        }
      ]
    },
    {
      "cell_type": "code",
      "metadata": {
        "colab": {
          "base_uri": "https://localhost:8080/"
        },
        "id": "OgNkflgcU66P",
        "outputId": "d6b43f1b-99b2-4135-bf21-10fb971dd9c3"
      },
      "source": [
        "X.info()"
      ],
      "execution_count": 224,
      "outputs": [
        {
          "output_type": "stream",
          "text": [
            "<class 'pandas.core.frame.DataFrame'>\n",
            "RangeIndex: 300 entries, 0 to 299\n",
            "Data columns (total 15 columns):\n",
            " #   Column                        Non-Null Count  Dtype  \n",
            "---  ------                        --------------  -----  \n",
            " 0   Crewed or Uncrewed            300 non-null    int64  \n",
            " 1   High Temp                     300 non-null    float64\n",
            " 2   Low Temp                      300 non-null    float64\n",
            " 3   Ave Temp                      300 non-null    float64\n",
            " 4   Temp at Launch Time           300 non-null    float64\n",
            " 5   Hist High Temp                300 non-null    float64\n",
            " 6   Hist Low Temp                 300 non-null    float64\n",
            " 7   Hist Ave Temp                 300 non-null    float64\n",
            " 8   Percipitation at Launch Time  300 non-null    float64\n",
            " 9   Hist Ave Percipitation        300 non-null    float64\n",
            " 10  Wind Direction                300 non-null    int64  \n",
            " 11  Max Wind Speed                300 non-null    float64\n",
            " 12  Visibility                    300 non-null    float64\n",
            " 13  Wind Speed at Launch Time     300 non-null    float64\n",
            " 14  Condition                     300 non-null    int64  \n",
            "dtypes: float64(12), int64(3)\n",
            "memory usage: 35.3 KB\n"
          ],
          "name": "stdout"
        }
      ]
    },
    {
      "cell_type": "code",
      "metadata": {
        "id": "-LPVQSRaZ_fx"
      },
      "source": [
        "from tensorflow import keras\n",
        "from tensorflow.keras import layers\n",
        "\n",
        "model = keras.Sequential([\n",
        "    layers.Dense(1024, activation='relu', input_shape=[15]),\n",
        "    layers.Dropout(0.3),\n",
        "    layers.BatchNormalization(),\n",
        "    layers.Dense(1024, activation='relu'),\n",
        "    layers.Dropout(0.3),\n",
        "    layers.BatchNormalization(),\n",
        "    layers.Dense(1024, activation='relu'),\n",
        "    layers.Dropout(0.3),\n",
        "    layers.BatchNormalization(),\n",
        "    layers.Dense(1, activation= 'sigmoid'),\n",
        "])"
      ],
      "execution_count": 259,
      "outputs": []
    },
    {
      "cell_type": "code",
      "metadata": {
        "id": "wYsQbDzshFIK"
      },
      "source": [
        "model.compile(optimizer='adam', loss='binary_crossentropy', metrics = ['accuracy'])"
      ],
      "execution_count": 261,
      "outputs": []
    },
    {
      "cell_type": "code",
      "metadata": {
        "id": "l0LVkWfhsBX4"
      },
      "source": [
        "X_train, X_test, y_train, y_test = train_test_split(X,y, test_size=0.2, random_state=7)"
      ],
      "execution_count": 262,
      "outputs": []
    },
    {
      "cell_type": "code",
      "metadata": {
        "colab": {
          "base_uri": "https://localhost:8080/"
        },
        "id": "rOiDyUfCVDDA",
        "outputId": "3b3a86e8-1cb0-4234-a4cb-a9bd69041484"
      },
      "source": [
        "# Fitting the model to the training data\n",
        "history = model.fit(X_train,y_train, validation_data = (X_test, y_test),epochs=100)"
      ],
      "execution_count": 263,
      "outputs": [
        {
          "output_type": "stream",
          "text": [
            "Epoch 1/100\n",
            "8/8 [==============================] - 0s 54ms/step - loss: 0.1839 - accuracy: 0.9250 - val_loss: 3.0279 - val_accuracy: 0.5500\n",
            "Epoch 2/100\n",
            "8/8 [==============================] - 0s 30ms/step - loss: 0.0345 - accuracy: 0.9833 - val_loss: 1.9500 - val_accuracy: 0.9833\n",
            "Epoch 3/100\n",
            "8/8 [==============================] - 0s 31ms/step - loss: 0.0489 - accuracy: 0.9792 - val_loss: 2.1981 - val_accuracy: 0.9833\n",
            "Epoch 4/100\n",
            "8/8 [==============================] - 0s 32ms/step - loss: 0.0700 - accuracy: 0.9625 - val_loss: 3.1149 - val_accuracy: 0.7167\n",
            "Epoch 5/100\n",
            "8/8 [==============================] - 0s 29ms/step - loss: 0.0030 - accuracy: 1.0000 - val_loss: 2.8363 - val_accuracy: 0.9500\n",
            "Epoch 6/100\n",
            "8/8 [==============================] - 0s 29ms/step - loss: 0.0014 - accuracy: 1.0000 - val_loss: 2.5003 - val_accuracy: 0.9833\n",
            "Epoch 7/100\n",
            "8/8 [==============================] - 0s 33ms/step - loss: 0.0039 - accuracy: 1.0000 - val_loss: 2.2902 - val_accuracy: 0.9833\n",
            "Epoch 8/100\n",
            "8/8 [==============================] - 0s 30ms/step - loss: 7.0857e-04 - accuracy: 1.0000 - val_loss: 2.1139 - val_accuracy: 0.9833\n",
            "Epoch 9/100\n",
            "8/8 [==============================] - 0s 30ms/step - loss: 0.0060 - accuracy: 0.9958 - val_loss: 1.8487 - val_accuracy: 0.9833\n",
            "Epoch 10/100\n",
            "8/8 [==============================] - 0s 30ms/step - loss: 0.0189 - accuracy: 0.9875 - val_loss: 1.7817 - val_accuracy: 0.9833\n",
            "Epoch 11/100\n",
            "8/8 [==============================] - 0s 30ms/step - loss: 1.2618e-04 - accuracy: 1.0000 - val_loss: 1.6193 - val_accuracy: 0.9833\n",
            "Epoch 12/100\n",
            "8/8 [==============================] - 0s 29ms/step - loss: 0.0198 - accuracy: 0.9917 - val_loss: 1.5717 - val_accuracy: 0.9833\n",
            "Epoch 13/100\n",
            "8/8 [==============================] - 0s 30ms/step - loss: 0.0012 - accuracy: 1.0000 - val_loss: 1.5636 - val_accuracy: 0.9833\n",
            "Epoch 14/100\n",
            "8/8 [==============================] - 0s 29ms/step - loss: 0.0165 - accuracy: 0.9917 - val_loss: 1.5178 - val_accuracy: 0.9833\n",
            "Epoch 15/100\n",
            "8/8 [==============================] - 0s 30ms/step - loss: 2.8521e-04 - accuracy: 1.0000 - val_loss: 1.4637 - val_accuracy: 0.9833\n",
            "Epoch 16/100\n",
            "8/8 [==============================] - 0s 29ms/step - loss: 7.6136e-05 - accuracy: 1.0000 - val_loss: 1.3823 - val_accuracy: 0.9833\n",
            "Epoch 17/100\n",
            "8/8 [==============================] - 0s 29ms/step - loss: 6.4118e-04 - accuracy: 1.0000 - val_loss: 1.3094 - val_accuracy: 0.9833\n",
            "Epoch 18/100\n",
            "8/8 [==============================] - 0s 29ms/step - loss: 0.0245 - accuracy: 0.9958 - val_loss: 1.2394 - val_accuracy: 0.9833\n",
            "Epoch 19/100\n",
            "8/8 [==============================] - 0s 29ms/step - loss: 5.9988e-04 - accuracy: 1.0000 - val_loss: 1.0160 - val_accuracy: 0.9833\n",
            "Epoch 20/100\n",
            "8/8 [==============================] - 0s 29ms/step - loss: 0.0116 - accuracy: 0.9958 - val_loss: 0.9716 - val_accuracy: 0.9833\n",
            "Epoch 21/100\n",
            "8/8 [==============================] - 0s 31ms/step - loss: 0.0026 - accuracy: 1.0000 - val_loss: 1.0706 - val_accuracy: 0.9833\n",
            "Epoch 22/100\n",
            "8/8 [==============================] - 0s 30ms/step - loss: 0.0027 - accuracy: 1.0000 - val_loss: 1.1387 - val_accuracy: 0.9833\n",
            "Epoch 23/100\n",
            "8/8 [==============================] - 0s 29ms/step - loss: 0.0045 - accuracy: 1.0000 - val_loss: 1.1510 - val_accuracy: 0.9833\n",
            "Epoch 24/100\n",
            "8/8 [==============================] - 0s 29ms/step - loss: 0.0361 - accuracy: 0.9792 - val_loss: 1.1485 - val_accuracy: 0.9833\n",
            "Epoch 25/100\n",
            "8/8 [==============================] - 0s 28ms/step - loss: 0.0017 - accuracy: 1.0000 - val_loss: 1.1033 - val_accuracy: 0.9833\n",
            "Epoch 26/100\n",
            "8/8 [==============================] - 0s 30ms/step - loss: 0.0031 - accuracy: 1.0000 - val_loss: 1.0602 - val_accuracy: 0.9833\n",
            "Epoch 27/100\n",
            "8/8 [==============================] - 0s 31ms/step - loss: 1.9443e-04 - accuracy: 1.0000 - val_loss: 1.0154 - val_accuracy: 0.9833\n",
            "Epoch 28/100\n",
            "8/8 [==============================] - 0s 28ms/step - loss: 0.0018 - accuracy: 1.0000 - val_loss: 1.0730 - val_accuracy: 0.9833\n",
            "Epoch 29/100\n",
            "8/8 [==============================] - 0s 30ms/step - loss: 1.8967e-04 - accuracy: 1.0000 - val_loss: 1.0923 - val_accuracy: 0.9833\n",
            "Epoch 30/100\n",
            "8/8 [==============================] - 0s 29ms/step - loss: 7.5451e-05 - accuracy: 1.0000 - val_loss: 1.0781 - val_accuracy: 0.9833\n",
            "Epoch 31/100\n",
            "8/8 [==============================] - 0s 30ms/step - loss: 7.8373e-05 - accuracy: 1.0000 - val_loss: 1.0534 - val_accuracy: 0.9833\n",
            "Epoch 32/100\n",
            "8/8 [==============================] - 0s 29ms/step - loss: 1.3082e-04 - accuracy: 1.0000 - val_loss: 1.0270 - val_accuracy: 0.9833\n",
            "Epoch 33/100\n",
            "8/8 [==============================] - 0s 31ms/step - loss: 1.1785e-04 - accuracy: 1.0000 - val_loss: 1.0060 - val_accuracy: 0.9833\n",
            "Epoch 34/100\n",
            "8/8 [==============================] - 0s 29ms/step - loss: 6.7678e-05 - accuracy: 1.0000 - val_loss: 0.9877 - val_accuracy: 0.9833\n",
            "Epoch 35/100\n",
            "8/8 [==============================] - 0s 28ms/step - loss: 6.8356e-04 - accuracy: 1.0000 - val_loss: 0.9786 - val_accuracy: 0.9833\n",
            "Epoch 36/100\n",
            "8/8 [==============================] - 0s 30ms/step - loss: 1.8367e-04 - accuracy: 1.0000 - val_loss: 0.9676 - val_accuracy: 0.9833\n",
            "Epoch 37/100\n",
            "8/8 [==============================] - 0s 30ms/step - loss: 1.7650e-04 - accuracy: 1.0000 - val_loss: 0.9564 - val_accuracy: 0.9833\n",
            "Epoch 38/100\n",
            "8/8 [==============================] - 0s 29ms/step - loss: 0.0056 - accuracy: 1.0000 - val_loss: 0.9567 - val_accuracy: 0.9833\n",
            "Epoch 39/100\n",
            "8/8 [==============================] - 0s 30ms/step - loss: 0.0760 - accuracy: 0.9750 - val_loss: 0.9870 - val_accuracy: 0.9833\n",
            "Epoch 40/100\n",
            "8/8 [==============================] - 0s 30ms/step - loss: 5.9762e-04 - accuracy: 1.0000 - val_loss: 0.9681 - val_accuracy: 0.9833\n",
            "Epoch 41/100\n",
            "8/8 [==============================] - 0s 31ms/step - loss: 4.3798e-04 - accuracy: 1.0000 - val_loss: 0.9086 - val_accuracy: 0.9833\n",
            "Epoch 42/100\n",
            "8/8 [==============================] - 0s 32ms/step - loss: 2.0406e-04 - accuracy: 1.0000 - val_loss: 0.8663 - val_accuracy: 0.9833\n",
            "Epoch 43/100\n",
            "8/8 [==============================] - 0s 30ms/step - loss: 0.1494 - accuracy: 0.9708 - val_loss: 0.8240 - val_accuracy: 0.9833\n",
            "Epoch 44/100\n",
            "8/8 [==============================] - 0s 30ms/step - loss: 0.0012 - accuracy: 1.0000 - val_loss: 0.6463 - val_accuracy: 0.9833\n",
            "Epoch 45/100\n",
            "8/8 [==============================] - 0s 30ms/step - loss: 0.0284 - accuracy: 0.9958 - val_loss: 0.6607 - val_accuracy: 0.9833\n",
            "Epoch 46/100\n",
            "8/8 [==============================] - 0s 29ms/step - loss: 0.0336 - accuracy: 0.9875 - val_loss: 0.7537 - val_accuracy: 0.9833\n",
            "Epoch 47/100\n",
            "8/8 [==============================] - 0s 31ms/step - loss: 0.0034 - accuracy: 1.0000 - val_loss: 1.0102 - val_accuracy: 0.9833\n",
            "Epoch 48/100\n",
            "8/8 [==============================] - 0s 30ms/step - loss: 7.1265e-04 - accuracy: 1.0000 - val_loss: 1.0634 - val_accuracy: 0.9833\n",
            "Epoch 49/100\n",
            "8/8 [==============================] - 0s 31ms/step - loss: 0.0056 - accuracy: 1.0000 - val_loss: 1.0824 - val_accuracy: 0.9833\n",
            "Epoch 50/100\n",
            "8/8 [==============================] - 0s 30ms/step - loss: 7.1054e-05 - accuracy: 1.0000 - val_loss: 1.0560 - val_accuracy: 0.9833\n",
            "Epoch 51/100\n",
            "8/8 [==============================] - 0s 31ms/step - loss: 0.0062 - accuracy: 0.9958 - val_loss: 0.9752 - val_accuracy: 0.9833\n",
            "Epoch 52/100\n",
            "8/8 [==============================] - 0s 31ms/step - loss: 8.8000e-05 - accuracy: 1.0000 - val_loss: 0.9137 - val_accuracy: 0.9833\n",
            "Epoch 53/100\n",
            "8/8 [==============================] - 0s 30ms/step - loss: 0.0085 - accuracy: 0.9958 - val_loss: 0.8782 - val_accuracy: 0.9833\n",
            "Epoch 54/100\n",
            "8/8 [==============================] - 0s 29ms/step - loss: 0.0389 - accuracy: 0.9917 - val_loss: 0.9890 - val_accuracy: 0.9833\n",
            "Epoch 55/100\n",
            "8/8 [==============================] - 0s 30ms/step - loss: 4.4455e-05 - accuracy: 1.0000 - val_loss: 1.0435 - val_accuracy: 0.9833\n",
            "Epoch 56/100\n",
            "8/8 [==============================] - 0s 30ms/step - loss: 0.0032 - accuracy: 1.0000 - val_loss: 1.0278 - val_accuracy: 0.9833\n",
            "Epoch 57/100\n",
            "8/8 [==============================] - 0s 29ms/step - loss: 0.0024 - accuracy: 1.0000 - val_loss: 1.0073 - val_accuracy: 0.9833\n",
            "Epoch 58/100\n",
            "8/8 [==============================] - 0s 31ms/step - loss: 8.8257e-05 - accuracy: 1.0000 - val_loss: 1.0382 - val_accuracy: 0.9833\n",
            "Epoch 59/100\n",
            "8/8 [==============================] - 0s 31ms/step - loss: 7.7689e-05 - accuracy: 1.0000 - val_loss: 1.0127 - val_accuracy: 0.9833\n",
            "Epoch 60/100\n",
            "8/8 [==============================] - 0s 30ms/step - loss: 5.1321e-04 - accuracy: 1.0000 - val_loss: 0.9752 - val_accuracy: 0.9833\n",
            "Epoch 61/100\n",
            "8/8 [==============================] - 0s 30ms/step - loss: 8.0451e-04 - accuracy: 1.0000 - val_loss: 0.9499 - val_accuracy: 0.9833\n",
            "Epoch 62/100\n",
            "8/8 [==============================] - 0s 30ms/step - loss: 0.0012 - accuracy: 1.0000 - val_loss: 0.9166 - val_accuracy: 0.9833\n",
            "Epoch 63/100\n",
            "8/8 [==============================] - 0s 30ms/step - loss: 1.2986e-04 - accuracy: 1.0000 - val_loss: 0.8796 - val_accuracy: 0.9833\n",
            "Epoch 64/100\n",
            "8/8 [==============================] - 0s 29ms/step - loss: 0.0184 - accuracy: 0.9958 - val_loss: 0.8943 - val_accuracy: 0.9833\n",
            "Epoch 65/100\n",
            "8/8 [==============================] - 0s 31ms/step - loss: 2.1911e-04 - accuracy: 1.0000 - val_loss: 0.9006 - val_accuracy: 0.9833\n",
            "Epoch 66/100\n",
            "8/8 [==============================] - 0s 31ms/step - loss: 2.9895e-05 - accuracy: 1.0000 - val_loss: 0.8834 - val_accuracy: 0.9833\n",
            "Epoch 67/100\n",
            "8/8 [==============================] - 0s 28ms/step - loss: 1.9949e-05 - accuracy: 1.0000 - val_loss: 0.8645 - val_accuracy: 0.9833\n",
            "Epoch 68/100\n",
            "8/8 [==============================] - 0s 30ms/step - loss: 2.5296e-04 - accuracy: 1.0000 - val_loss: 0.8474 - val_accuracy: 0.9833\n",
            "Epoch 69/100\n",
            "8/8 [==============================] - 0s 29ms/step - loss: 0.0698 - accuracy: 0.9875 - val_loss: 0.8379 - val_accuracy: 0.9833\n",
            "Epoch 70/100\n",
            "8/8 [==============================] - 0s 31ms/step - loss: 0.0031 - accuracy: 1.0000 - val_loss: 0.8222 - val_accuracy: 0.9833\n",
            "Epoch 71/100\n",
            "8/8 [==============================] - 0s 31ms/step - loss: 0.0239 - accuracy: 0.9917 - val_loss: 0.7806 - val_accuracy: 0.9833\n",
            "Epoch 72/100\n",
            "8/8 [==============================] - 0s 30ms/step - loss: 0.0029 - accuracy: 1.0000 - val_loss: 0.7453 - val_accuracy: 0.9833\n",
            "Epoch 73/100\n",
            "8/8 [==============================] - 0s 29ms/step - loss: 2.3719e-04 - accuracy: 1.0000 - val_loss: 0.7577 - val_accuracy: 0.9833\n",
            "Epoch 74/100\n",
            "8/8 [==============================] - 0s 30ms/step - loss: 4.8874e-05 - accuracy: 1.0000 - val_loss: 0.7518 - val_accuracy: 0.9833\n",
            "Epoch 75/100\n",
            "8/8 [==============================] - 0s 30ms/step - loss: 7.0359e-05 - accuracy: 1.0000 - val_loss: 0.7403 - val_accuracy: 0.9833\n",
            "Epoch 76/100\n",
            "8/8 [==============================] - 0s 30ms/step - loss: 4.7455e-04 - accuracy: 1.0000 - val_loss: 0.7301 - val_accuracy: 0.9833\n",
            "Epoch 77/100\n",
            "8/8 [==============================] - 0s 30ms/step - loss: 2.6990e-04 - accuracy: 1.0000 - val_loss: 0.7205 - val_accuracy: 0.9833\n",
            "Epoch 78/100\n",
            "8/8 [==============================] - 0s 31ms/step - loss: 1.2623e-04 - accuracy: 1.0000 - val_loss: 0.7107 - val_accuracy: 0.9833\n",
            "Epoch 79/100\n",
            "8/8 [==============================] - 0s 31ms/step - loss: 1.4828e-04 - accuracy: 1.0000 - val_loss: 0.7031 - val_accuracy: 0.9833\n",
            "Epoch 80/100\n",
            "8/8 [==============================] - 0s 34ms/step - loss: 5.9737e-04 - accuracy: 1.0000 - val_loss: 0.7031 - val_accuracy: 0.9833\n",
            "Epoch 81/100\n",
            "8/8 [==============================] - 0s 32ms/step - loss: 0.0038 - accuracy: 1.0000 - val_loss: 0.7188 - val_accuracy: 0.9833\n",
            "Epoch 82/100\n",
            "8/8 [==============================] - 0s 32ms/step - loss: 1.5157e-04 - accuracy: 1.0000 - val_loss: 0.7222 - val_accuracy: 0.9833\n",
            "Epoch 83/100\n",
            "8/8 [==============================] - 0s 33ms/step - loss: 0.0089 - accuracy: 1.0000 - val_loss: 0.7211 - val_accuracy: 0.9833\n",
            "Epoch 84/100\n",
            "8/8 [==============================] - 0s 30ms/step - loss: 3.6664e-04 - accuracy: 1.0000 - val_loss: 0.7029 - val_accuracy: 0.9833\n",
            "Epoch 85/100\n",
            "8/8 [==============================] - 0s 34ms/step - loss: 3.9513e-04 - accuracy: 1.0000 - val_loss: 0.6969 - val_accuracy: 0.9833\n",
            "Epoch 86/100\n",
            "8/8 [==============================] - 0s 31ms/step - loss: 7.1251e-05 - accuracy: 1.0000 - val_loss: 0.6924 - val_accuracy: 0.9833\n",
            "Epoch 87/100\n",
            "8/8 [==============================] - 0s 32ms/step - loss: 4.3863e-04 - accuracy: 1.0000 - val_loss: 0.7022 - val_accuracy: 0.9833\n",
            "Epoch 88/100\n",
            "8/8 [==============================] - 0s 32ms/step - loss: 3.1704e-05 - accuracy: 1.0000 - val_loss: 0.7080 - val_accuracy: 0.9833\n",
            "Epoch 89/100\n",
            "8/8 [==============================] - 0s 32ms/step - loss: 2.9861e-05 - accuracy: 1.0000 - val_loss: 0.7107 - val_accuracy: 0.9833\n",
            "Epoch 90/100\n",
            "8/8 [==============================] - 0s 32ms/step - loss: 0.0471 - accuracy: 0.9917 - val_loss: 0.8615 - val_accuracy: 0.9833\n",
            "Epoch 91/100\n",
            "8/8 [==============================] - 0s 33ms/step - loss: 0.0012 - accuracy: 1.0000 - val_loss: 1.0074 - val_accuracy: 0.9833\n",
            "Epoch 92/100\n",
            "8/8 [==============================] - 0s 30ms/step - loss: 1.9487e-04 - accuracy: 1.0000 - val_loss: 1.0244 - val_accuracy: 0.9833\n",
            "Epoch 93/100\n",
            "8/8 [==============================] - 0s 32ms/step - loss: 9.4588e-04 - accuracy: 1.0000 - val_loss: 1.0100 - val_accuracy: 0.9833\n",
            "Epoch 94/100\n",
            "8/8 [==============================] - 0s 30ms/step - loss: 1.5315e-04 - accuracy: 1.0000 - val_loss: 0.9919 - val_accuracy: 0.9833\n",
            "Epoch 95/100\n",
            "8/8 [==============================] - 0s 31ms/step - loss: 1.0720e-04 - accuracy: 1.0000 - val_loss: 0.9734 - val_accuracy: 0.9833\n",
            "Epoch 96/100\n",
            "8/8 [==============================] - 0s 31ms/step - loss: 0.0128 - accuracy: 0.9958 - val_loss: 0.9726 - val_accuracy: 0.9833\n",
            "Epoch 97/100\n",
            "8/8 [==============================] - 0s 31ms/step - loss: 2.8914e-05 - accuracy: 1.0000 - val_loss: 0.9601 - val_accuracy: 0.9833\n",
            "Epoch 98/100\n",
            "8/8 [==============================] - 0s 31ms/step - loss: 9.7639e-05 - accuracy: 1.0000 - val_loss: 0.9410 - val_accuracy: 0.9833\n",
            "Epoch 99/100\n",
            "8/8 [==============================] - 0s 31ms/step - loss: 1.6380e-04 - accuracy: 1.0000 - val_loss: 0.9221 - val_accuracy: 0.9833\n",
            "Epoch 100/100\n",
            "8/8 [==============================] - 0s 31ms/step - loss: 1.1735e-04 - accuracy: 1.0000 - val_loss: 0.9053 - val_accuracy: 0.9833\n"
          ],
          "name": "stdout"
        }
      ]
    },
    {
      "cell_type": "code",
      "metadata": {
        "colab": {
          "base_uri": "https://localhost:8080/"
        },
        "id": "H6zIVE8BVFVB",
        "outputId": "2030541e-6491-4242-8b1e-e4c35737e727"
      },
      "source": [
        "# Do prediction on test Data\n",
        "y_pred = model.predict(X_test)\n",
        "print(y_pred)"
      ],
      "execution_count": 264,
      "outputs": [
        {
          "output_type": "stream",
          "text": [
            "[[1.1352715e-06]\n",
            " [1.0000000e+00]\n",
            " [1.5368965e-05]\n",
            " [2.4052537e-05]\n",
            " [4.8481648e-05]\n",
            " [2.8046759e-06]\n",
            " [2.4482235e-06]\n",
            " [5.2075579e-06]\n",
            " [1.0000000e+00]\n",
            " [1.0000000e+00]\n",
            " [4.5212346e-06]\n",
            " [1.0000000e+00]\n",
            " [1.0853617e-05]\n",
            " [5.8476267e-06]\n",
            " [1.3701050e-05]\n",
            " [2.0383038e-06]\n",
            " [2.3528344e-05]\n",
            " [3.9203960e-06]\n",
            " [1.0000000e+00]\n",
            " [5.9817849e-06]\n",
            " [3.4065408e-06]\n",
            " [4.4760927e-06]\n",
            " [1.3670906e-06]\n",
            " [2.9721830e-05]\n",
            " [1.3437912e-06]\n",
            " [1.0000000e+00]\n",
            " [1.0000000e+00]\n",
            " [1.0000000e+00]\n",
            " [3.6177257e-06]\n",
            " [2.2269655e-06]\n",
            " [9.7032307e-06]\n",
            " [6.3162829e-06]\n",
            " [7.3876245e-06]\n",
            " [7.7132008e-06]\n",
            " [8.5695901e-06]\n",
            " [5.5415612e-06]\n",
            " [1.0000000e+00]\n",
            " [3.1685690e-06]\n",
            " [4.3616178e-06]\n",
            " [5.4071852e-06]\n",
            " [1.0000000e+00]\n",
            " [2.6387827e-06]\n",
            " [4.7912090e-06]\n",
            " [3.3398926e-05]\n",
            " [1.6193031e-05]\n",
            " [1.0000000e+00]\n",
            " [1.7454859e-05]\n",
            " [9.9939589e-06]\n",
            " [1.7864928e-06]\n",
            " [7.1613076e-06]\n",
            " [9.5687748e-05]\n",
            " [1.9682378e-05]\n",
            " [1.3673332e-06]\n",
            " [1.6832862e-06]\n",
            " [8.7919670e-06]\n",
            " [1.4112557e-05]\n",
            " [1.0523244e-06]\n",
            " [5.5026649e-06]\n",
            " [1.0000000e+00]\n",
            " [2.2124725e-05]]\n"
          ],
          "name": "stdout"
        }
      ]
    },
    {
      "cell_type": "code",
      "metadata": {
        "colab": {
          "base_uri": "https://localhost:8080/",
          "height": 298
        },
        "id": "PwHHQ8JCVIF-",
        "outputId": "08d18972-099b-46da-fa1b-123ac90e788f"
      },
      "source": [
        "import matplotlib.pyplot as plt\n",
        "acc = history.history['accuracy']\n",
        "val_acc = history.history['val_accuracy']\n",
        "loss = history.history['loss']\n",
        "val_loss = history.history['val_loss']\n",
        "\n",
        "epochs = range(len(acc))\n",
        "\n",
        "plt.plot(epochs, acc, 'r', label='Training accuracy')\n",
        "plt.plot(epochs, val_acc, 'b', label='Validation accuracy')\n",
        "plt.title('Training and validation accuracy')\n",
        "plt.legend(loc=0)\n",
        "plt.figure()\n",
        "\n",
        "\n",
        "plt.show()"
      ],
      "execution_count": 265,
      "outputs": [
        {
          "output_type": "display_data",
          "data": {
            "image/png": "[encoded data removed]",
            "text/plain": [
              "<Figure size 432x288 with 1 Axes>"
            ]
          },
          "metadata": {
            "tags": [],
            "needs_background": "light"
          }
        },
        {
          "output_type": "display_data",
          "data": {
            "text/plain": [
              "<Figure size 432x288 with 0 Axes>"
            ]
          },
          "metadata": {
            "tags": []
          }
        }
      ]
    },
    {
      "cell_type": "code",
      "metadata": {
        "id": "nPGPLlvXGJjy"
      },
      "source": [
        "model.save('rocket.h5')"
      ],
      "execution_count": 267,
      "outputs": []
    },
    {
      "cell_type": "code",
      "metadata": {
        "id": "EHMjn4xnG9gv",
        "outputId": "184eb5f1-5199-4dc4-87bd-a9bbff500045",
        "colab": {
          "base_uri": "https://localhost:8080/"
        }
      },
      "source": [
        "!zip -r /content/saved_model /content/saved_model"
      ],
      "execution_count": 269,
      "outputs": [
        {
          "output_type": "stream",
          "text": [
            "  adding: content/saved_model/ (stored 0%)\n",
            "  adding: content/saved_model/my_model/ (stored 0%)\n",
            "  adding: content/saved_model/my_model/assets/ (stored 0%)\n",
            "  adding: content/saved_model/my_model/saved_model.pb (deflated 90%)\n",
            "  adding: content/saved_model/my_model/variables/ (stored 0%)\n",
            "  adding: content/saved_model/my_model/variables/variables.index (deflated 71%)\n",
            "  adding: content/saved_model/my_model/variables/variables.data-00000-of-00001 (deflated 7%)\n"
          ],
          "name": "stdout"
        }
      ]
    },
    {
      "cell_type": "code",
      "metadata": {
        "id": "p-S7qziqVKnD"
      },
      "source": [
        "# Let's import a library for visualizing our decision tree.\n",
        "from sklearn.tree import export_graphviz\n",
        "\n",
        "def tree_graph_to_png(tree, feature_names,class_names, png_file_to_save):\n",
        "    tree_str = export_graphviz(tree, feature_names=feature_names, class_names=class_names,\n",
        "                                     filled=True, out_file=None)\n",
        "    graph = pydotplus.graph_from_dot_data(tree_str)  \n",
        "    return Image(graph.create_png())"
      ],
      "execution_count": 25,
      "outputs": []
    },
    {
      "cell_type": "code",
      "metadata": {
        "colab": {
          "base_uri": "https://localhost:8080/",
          "height": 436
        },
        "id": "4Ggpi4YZVNm5",
        "outputId": "3cec941d-e650-4418-f85e-466338abc9c4"
      },
      "source": [
        "# This function takes a machine learning model and visualizes it.\n",
        "tree_graph_to_png(tree=tree_model, feature_names=X.columns.values,class_names=['No Launch','Launch'], png_file_to_save='decision-tree.png')"
      ],
      "execution_count": 26,
      "outputs": [
        {
          "output_type": "execute_result",
          "data": {
            "image/png": "[encoded data removed]",
            "text/plain": [
              "<IPython.core.display.Image object>"
            ]
          },
          "metadata": {
            "tags": []
          },
          "execution_count": 26
        }
      ]
    },
    {
      "cell_type": "code",
      "metadata": {
        "colab": {
          "base_uri": "https://localhost:8080/",
          "height": 168
        },
        "id": "LiftaUNBVP01",
        "outputId": "dd5d216e-2cad-4837-c4e3-4c6d369f1cab"
      },
      "source": [
        "launch_data[(launch_data['Wind Speed at Launch Time'] > 1) & (launch_data['Max Wind Speed'] > 30.5)]"
      ],
      "execution_count": 27,
      "outputs": [
        {
          "output_type": "execute_result",
          "data": {
            "text/html": [
              "<div>\n",
              "<style scoped>\n",
              "    .dataframe tbody tr th:only-of-type {\n",
              "        vertical-align: middle;\n",
              "    }\n",
              "\n",
              "    .dataframe tbody tr th {\n",
              "        vertical-align: top;\n",
              "    }\n",
              "\n",
              "    .dataframe thead th {\n",
              "        text-align: right;\n",
              "    }\n",
              "</style>\n",
              "<table border=\"1\" class=\"dataframe\">\n",
              "  <thead>\n",
              "    <tr style=\"text-align: right;\">\n",
              "      <th></th>\n",
              "      <th>Crewed or Uncrewed</th>\n",
              "      <th>High Temp</th>\n",
              "      <th>Low Temp</th>\n",
              "      <th>Ave Temp</th>\n",
              "      <th>Temp at Launch Time</th>\n",
              "      <th>Hist High Temp</th>\n",
              "      <th>Hist Low Temp</th>\n",
              "      <th>Hist Ave Temp</th>\n",
              "      <th>Percipitation at Launch Time</th>\n",
              "      <th>Hist Ave Percipitation</th>\n",
              "      <th>Wind Direction</th>\n",
              "      <th>Max Wind Speed</th>\n",
              "      <th>Visibility</th>\n",
              "      <th>Wind Speed at Launch Time</th>\n",
              "      <th>Condition</th>\n",
              "    </tr>\n",
              "  </thead>\n",
              "  <tbody>\n",
              "    <tr>\n",
              "      <th>292</th>\n",
              "      <td>0</td>\n",
              "      <td>86.0</td>\n",
              "      <td>70.0</td>\n",
              "      <td>75.02</td>\n",
              "      <td>74.0</td>\n",
              "      <td>87.0</td>\n",
              "      <td>70.0</td>\n",
              "      <td>79.0</td>\n",
              "      <td>0.28</td>\n",
              "      <td>0.15</td>\n",
              "      <td>4</td>\n",
              "      <td>32.0</td>\n",
              "      <td>10.0</td>\n",
              "      <td>25.0</td>\n",
              "      <td>2</td>\n",
              "    </tr>\n",
              "  </tbody>\n",
              "</table>\n",
              "</div>"
            ],
            "text/plain": [
              "     Crewed or Uncrewed  High Temp  ...  Wind Speed at Launch Time  Condition\n",
              "292                   0       86.0  ...                       25.0          2\n",
              "\n",
              "[1 rows x 15 columns]"
            ]
          },
          "metadata": {
            "tags": []
          },
          "execution_count": 27
        }
      ]
    },
    {
      "cell_type": "code",
      "metadata": {
        "colab": {
          "base_uri": "https://localhost:8080/"
        },
        "id": "oUBuZjrBVSjT",
        "outputId": "9956a009-7c75-4684-f2bc-aaddc1343f6d"
      },
      "source": [
        "# ['Crewed or Uncrewed', 'High Temp', 'Low Temp', 'Ave Temp',\n",
        "#        'Temp at Launch Time', 'Hist High Temp', 'Hist Low Temp',\n",
        "#        'Hist Ave Temp', 'Precipitation at Launch Time',\n",
        "#        'Hist Ave Precipitation', 'Wind Direction', 'Max Wind Speed',\n",
        "#        'Visibility', 'Wind Speed at Launch Time', 'Hist Ave Max Wind Speed',\n",
        "#        'Hist Ave Visibility', 'Condition']\n",
        "\n",
        "data_input = [ 1.  , 75.  , 68.  , 71.  ,  0.  , 75.  , 55.  , 65.  ,  0.  , 0.08,  0.  , 16.  , 15.  ,  0.  ,  0. ]\n",
        "\n",
        "tree_model.predict([data_input])"
      ],
      "execution_count": 28,
      "outputs": [
        {
          "output_type": "execute_result",
          "data": {
            "text/plain": [
              "array(['N'], dtype=object)"
            ]
          },
          "metadata": {
            "tags": []
          },
          "execution_count": 28
        }
      ]
    },
    {
      "cell_type": "code",
      "metadata": {
        "id": "GkyBGZcZVUyH"
      },
      "source": [
        ""
      ],
      "execution_count": null,
      "outputs": []
    },
    {
      "cell_type": "code",
      "metadata": {
        "id": "-skULGu1G77m"
      },
      "source": [
        ""
      ],
      "execution_count": null,
      "outputs": []
    }
  ]
}